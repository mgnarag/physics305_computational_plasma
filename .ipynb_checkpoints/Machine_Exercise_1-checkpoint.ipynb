{
 "cells": [
  {
   "cell_type": "markdown",
   "id": "0f0a568c",
   "metadata": {},
   "source": [
    "# Matrix multiplication\n",
    " $ \\textit{by Mark Jeremy G. Narag | PhD Physics student | 2014-64423}$\n",
    " \n",
    "Here, we want to check the running time of doing matrix multiplication between three different scenarios: (i) using python, (ii) using numpy, and (iii) using fortran.\n",
    "\n",
    "For simplicity, let's predefine our matrix **A** and **B**:"
   ]
  },
  {
   "cell_type": "code",
   "execution_count": 21,
   "id": "8f100bb4",
   "metadata": {},
   "outputs": [],
   "source": [
    "import numpy as np\n",
    "\n",
    "A = np.array([[1,2,3],\n",
    "              [4,5,6],\n",
    "              [7,8,9],\n",
    "             [10,11,12]])\n",
    "\n",
    "B = np.array([[2,4,6,8],\n",
    "              [10,12,14,16],\n",
    "              [18,20,22,24]])"
   ]
  },
  {
   "cell_type": "markdown",
   "id": "47f27332",
   "metadata": {},
   "source": [
    "#### 1. Matrix multiplication with python"
   ]
  },
  {
   "cell_type": "code",
   "execution_count": 37,
   "id": "4d6446b3",
   "metadata": {},
   "outputs": [
    {
     "name": "stdout",
     "output_type": "stream",
     "text": [
      "A x B =  [[ 76.  88. 100. 112.]\n",
      " [166. 196. 226. 256.]\n",
      " [256. 304. 352. 400.]\n",
      " [346. 412. 478. 544.]]\n",
      "with python:  0.0009284019470214844 s\n"
     ]
    }
   ],
   "source": [
    "import time\n",
    "start = time.time()\n",
    "\n",
    "def matrix_mul(A,B):\n",
    "    M = np.shape(A)[0] #number of rows\n",
    "    N = np.shape(A)[1] #number of column\n",
    "    X = np.shape(B)[0]\n",
    "    Y = np.shape(B)[1]\n",
    "    \n",
    "    C = np.zeros([M,Y]) #empty array to store the values\n",
    "    if N != X:\n",
    "        return \"cant multiply\" #The column of A should match the rows of B\n",
    "    else:\n",
    "        for i in range(M):\n",
    "            for j in range(Y):\n",
    "                for k in range(N):\n",
    "                    C[i,j] += A[i,k]*B[k,j]\n",
    "\n",
    "    return C\n",
    "\n",
    "print('A x B = ', matrix_mul(A,B))\n",
    "\n",
    "end = time.time()\n",
    "\n",
    "print('running time (python): ',end-start, 's')"
   ]
  },
  {
   "cell_type": "markdown",
   "id": "4fe347e4",
   "metadata": {},
   "source": [
    "#### 2. Matrix multiplication with numpy\n",
    "\n",
    "There is already a numpy package `np.matmul`"
   ]
  },
  {
   "cell_type": "code",
   "execution_count": 39,
   "id": "c8e4275e",
   "metadata": {},
   "outputs": [
    {
     "name": "stdout",
     "output_type": "stream",
     "text": [
      "A x B =  [[ 76  88 100 112]\n",
      " [166 196 226 256]\n",
      " [256 304 352 400]\n",
      " [346 412 478 544]]\n",
      "running time (numpy):  0.0004017353057861328 s\n"
     ]
    }
   ],
   "source": [
    "start = time.time()\n",
    "print('A x B = ', np.matmul(A,B))\n",
    "end = time.time()\n",
    "\n",
    "print('running time (numpy): ',end-start, 's')"
   ]
  },
  {
   "cell_type": "code",
   "execution_count": null,
   "id": "c2e38172",
   "metadata": {},
   "outputs": [],
   "source": []
  }
 ],
 "metadata": {
  "kernelspec": {
   "display_name": "Python 3 (ipykernel)",
   "language": "python",
   "name": "python3"
  },
  "language_info": {
   "codemirror_mode": {
    "name": "ipython",
    "version": 3
   },
   "file_extension": ".py",
   "mimetype": "text/x-python",
   "name": "python",
   "nbconvert_exporter": "python",
   "pygments_lexer": "ipython3",
   "version": "3.10.10"
  }
 },
 "nbformat": 4,
 "nbformat_minor": 5
}
