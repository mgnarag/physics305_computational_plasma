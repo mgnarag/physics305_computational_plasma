{
 "cells": [
  {
   "cell_type": "markdown",
   "metadata": {
    "id": "S9MQpKzothv9"
   },
   "source": [
    "# Matrix multiplication\n",
    " $ \\textit{by Mark Jeremy G. Narag | PhD Physics student | 2014-64423}$\n",
    "\n",
    "\n",
    "Here, we want to check the running time of doing matrix multiplication between four different scenarios: (i) using python, (ii) using numpy, (iii) using fortran, and (iv) using fortran parallelized\n",
    "\n",
    "For simplicity, let's predefine our matrix **A** and **B**:"
   ]
  },
  {
   "cell_type": "code",
   "execution_count": 1,
   "metadata": {
    "id": "-AaqjYrKqnoO"
   },
   "outputs": [],
   "source": [
    "import numpy as np\n",
    "\n",
    "A = np.array([[1,2,3],\n",
    "              [4,5,6],\n",
    "              [7,8,9],\n",
    "             [10,11,12]])\n",
    "\n",
    "B = np.array([[2,4,6,8],\n",
    "              [10,12,14,16],\n",
    "              [18,20,22,24]])"
   ]
  },
  {
   "cell_type": "markdown",
   "metadata": {
    "id": "F3Pph2nbtZ-S"
   },
   "source": [
    "### 1. Matrix multiplication with python"
   ]
  },
  {
   "cell_type": "code",
   "execution_count": 2,
   "metadata": {
    "colab": {
     "base_uri": "https://localhost:8080/"
    },
    "id": "7qGD05WOqucF",
    "outputId": "528e493a-4d8b-419c-dd9e-3b95f23c5495"
   },
   "outputs": [
    {
     "name": "stdout",
     "output_type": "stream",
     "text": [
      "A x B =  [[ 76.  88. 100. 112.]\n",
      " [166. 196. 226. 256.]\n",
      " [256. 304. 352. 400.]\n",
      " [346. 412. 478. 544.]]\n",
      "running time (python):  0.005821704864501953 s\n"
     ]
    }
   ],
   "source": [
    "import time\n",
    "start = time.time()\n",
    "\n",
    "def matrix_mul(A,B):\n",
    "    M = np.shape(A)[0] #number of rows\n",
    "    N = np.shape(A)[1] #number of column\n",
    "    X = np.shape(B)[0]\n",
    "    Y = np.shape(B)[1]\n",
    "\n",
    "    C = np.zeros([M,Y]) #empty array to store the values\n",
    "    if N != X:\n",
    "        return \"cant multiply\" #The column of A should match the rows of B\n",
    "    else:\n",
    "        for i in range(M):\n",
    "            for j in range(Y):\n",
    "                for k in range(N):\n",
    "                    C[i,j] += A[i,k]*B[k,j]\n",
    "\n",
    "    return C\n",
    "\n",
    "print('A x B = ', matrix_mul(A,B))\n",
    "\n",
    "end = time.time()\n",
    "\n",
    "t1 = end-start\n",
    "\n",
    "print('running time (python): ',t1, 's')"
   ]
  },
  {
   "cell_type": "markdown",
   "metadata": {
    "id": "UcOysCFNt1jO"
   },
   "source": [
    "### 2. Matrix multiplication with numpy\n",
    "\n",
    "There is already a numpy package `np.matmul`"
   ]
  },
  {
   "cell_type": "code",
   "execution_count": 3,
   "metadata": {
    "colab": {
     "base_uri": "https://localhost:8080/"
    },
    "id": "_2YGBknRt5x9",
    "outputId": "2cbae6fb-2871-4a82-8853-211e31d63991"
   },
   "outputs": [
    {
     "name": "stdout",
     "output_type": "stream",
     "text": [
      "A x B =  [[ 76  88 100 112]\n",
      " [166 196 226 256]\n",
      " [256 304 352 400]\n",
      " [346 412 478 544]]\n",
      "running time (numpy):  0.00044798851013183594 s\n"
     ]
    }
   ],
   "source": [
    "start = time.time()\n",
    "print('A x B = ', np.matmul(A,B))\n",
    "end = time.time()\n",
    "\n",
    "t2 = end-start\n",
    "print('running time (numpy): ',t2, 's')"
   ]
  },
  {
   "cell_type": "markdown",
   "metadata": {
    "id": "rHjFqUklt7RU"
   },
   "source": [
    "### 3. Matrix multiplication with Fortran\n",
    "\n",
    "This is better to do in google colab. I spent hours doing it in Macbook."
   ]
  },
  {
   "cell_type": "code",
   "execution_count": 4,
   "metadata": {
    "colab": {
     "base_uri": "https://localhost:8080/"
    },
    "id": "P8wnWJvAq6So",
    "outputId": "2b815069-a86b-4023-a090-2e85b61346b7"
   },
   "outputs": [
    {
     "name": "stdout",
     "output_type": "stream",
     "text": [
      "/content/drive/My Drive/Physics305_plasma\n",
      "mat_mul.cpython-310-x86_64-linux-gnu.so\n",
      "matmul.cpython-310-x86_64-linux-gnu.so\n",
      "mat_mul.f90\n",
      "mat_mul_par.f90\n",
      "matmulprl.cpython-310-x86_64-linux-gnu.so\n",
      "matrix_mul.cpython-310-x86_64-linux-gnu.so\n",
      "/usr/local/lib/python3.10/dist-packages/setuptools/_distutils/cmd.py:66: SetuptoolsDeprecationWarning: setup.py install is deprecated.\n",
      "!!\n",
      "\n",
      "        ********************************************************************************\n",
      "        Please avoid running ``setup.py`` directly.\n",
      "        Instead, use pypa/build, pypa/installer, pypa/build or\n",
      "        other standards-based tools.\n",
      "\n",
      "        See https://blog.ganssle.io/articles/2021/10/setup-py-deprecated.html for details.\n",
      "        ********************************************************************************\n",
      "\n",
      "!!\n",
      "  self.initialize_options()\n",
      "A x B =  [[ 76.  88. 100. 112.]\n",
      " [166. 196. 226. 256.]\n",
      " [256. 304. 352. 400.]\n",
      " [346. 412. 478. 544.]]\n",
      "running time (fortran):  0.0006318092346191406 s\n"
     ]
    }
   ],
   "source": [
    "%cd /content/drive/My Drive/Physics305_plasma/\n",
    "!ls\n",
    "\n",
    "import sys\n",
    "!{sys.executable} -m numpy.f2py --quiet -c mat_mul.f90 -m matmul  --fcompiler=gnu95 --f90flags=-O3\n",
    "\n",
    "import matmul\n",
    "start = time.time()\n",
    "print('A x B = ', matmul.matmult(A,B))\n",
    "end = time.time()\n",
    "\n",
    "t3 = end-start\n",
    "print('running time (fortran): ',t3, 's')"
   ]
  },
  {
   "cell_type": "markdown",
   "metadata": {
    "id": "BCE6hPwpuEYe"
   },
   "source": [
    "### 4. Matrix multiplication with Fortran (parallelized)\n"
   ]
  },
  {
   "cell_type": "code",
   "execution_count": 5,
   "metadata": {
    "colab": {
     "base_uri": "https://localhost:8080/"
    },
    "id": "fQAoJ8Qgukzd",
    "outputId": "c9d25e7d-a68e-405c-dfb5-a4f220376f3e"
   },
   "outputs": [
    {
     "name": "stdout",
     "output_type": "stream",
     "text": [
      "/content/drive/My Drive/Physics305_plasma\n",
      "mat_mul.cpython-310-x86_64-linux-gnu.so\n",
      "matmul.cpython-310-x86_64-linux-gnu.so\n",
      "mat_mul.f90\n",
      "mat_mul_par.f90\n",
      "matmulprl.cpython-310-x86_64-linux-gnu.so\n",
      "matrix_mul.cpython-310-x86_64-linux-gnu.so\n",
      "/usr/local/lib/python3.10/dist-packages/setuptools/_distutils/cmd.py:66: SetuptoolsDeprecationWarning: setup.py install is deprecated.\n",
      "!!\n",
      "\n",
      "        ********************************************************************************\n",
      "        Please avoid running ``setup.py`` directly.\n",
      "        Instead, use pypa/build, pypa/installer, pypa/build or\n",
      "        other standards-based tools.\n",
      "\n",
      "        See https://blog.ganssle.io/articles/2021/10/setup-py-deprecated.html for details.\n",
      "        ********************************************************************************\n",
      "\n",
      "!!\n",
      "  self.initialize_options()\n",
      "A x B =  [[ 76.  88. 100. 112.]\n",
      " [166. 196. 226. 256.]\n",
      " [256. 304. 352. 400.]\n",
      " [346. 412. 478. 544.]]\n",
      "running time (fortran-parallel):  0.0005769729614257812 s\n"
     ]
    }
   ],
   "source": [
    "%cd /content/drive/My Drive/Physics305_plasma/\n",
    "!ls\n",
    "\n",
    "import sys\n",
    "!{sys.executable} -m numpy.f2py --quiet -c mat_mul_par.f90 -m matmulprl  --fcompiler=gnu95 --f90flags=-O3\n",
    "\n",
    "import matmulprl\n",
    "start = time.time()\n",
    "print('A x B = ', matmulprl.matmultpl(A,B))\n",
    "end = time.time()\n",
    "\n",
    "t4 = end-start\n",
    "print('running time (fortran-parallel): ',t4, 's')"
   ]
  },
  {
   "cell_type": "markdown",
   "metadata": {
    "id": "KqvOSgi7zTkb"
   },
   "source": [
    "## Compare the running time for the four scenarios\n"
   ]
  },
  {
   "cell_type": "code",
   "execution_count": 6,
   "metadata": {
    "colab": {
     "base_uri": "https://localhost:8080/"
    },
    "id": "RwDR74iEsSNU",
    "outputId": "3bc8ac5c-1dcd-4f77-d468-04fd89b16a78"
   },
   "outputs": [
    {
     "name": "stdout",
     "output_type": "stream",
     "text": [
      "RUNNING TIME\n",
      "1. Python:  0.005821704864501953 s\n",
      "2. Numpy:  0.00044798851013183594 s\n",
      "3. Fortran:  0.0006318092346191406 s\n",
      "4. Fortran parallelized:  0.0005769729614257812 s\n"
     ]
    }
   ],
   "source": [
    "print('RUNNING TIME')\n",
    "print('1. Python: ',t1, 's')\n",
    "print('2. Numpy: ',t2, 's')\n",
    "print('3. Fortran: ',t3, 's')\n",
    "print('4. Fortran parallelized: ',t4, 's')"
   ]
  },
  {
   "cell_type": "markdown",
   "metadata": {
    "id": "RrXy5Mjsz6jM"
   },
   "source": [
    "Looks like the package `numpy` is the fastest where using our own code in python is slowest. Parallelized fortran is also faster than fortran no parallelization. Although the running time are not significantly large at the moment, when we do higher computation, this will be important."
   ]
  },
  {
   "cell_type": "code",
   "execution_count": null,
   "metadata": {
    "id": "DaERKYwy0jgL"
   },
   "outputs": [],
   "source": []
  }
 ],
 "metadata": {
  "colab": {
   "provenance": []
  },
  "kernelspec": {
   "display_name": "Python 3 (ipykernel)",
   "language": "python",
   "name": "python3"
  },
  "language_info": {
   "codemirror_mode": {
    "name": "ipython",
    "version": 3
   },
   "file_extension": ".py",
   "mimetype": "text/x-python",
   "name": "python",
   "nbconvert_exporter": "python",
   "pygments_lexer": "ipython3",
   "version": "3.10.10"
  }
 },
 "nbformat": 4,
 "nbformat_minor": 1
}
